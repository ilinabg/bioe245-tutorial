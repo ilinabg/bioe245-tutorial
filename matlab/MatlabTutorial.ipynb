{
 "cells": [
  {
   "cell_type": "markdown",
   "metadata": {},
   "source": [
    "## Matlab Tutorial: Saving, Loading, and Manipulating Matrices\n"
   ]
  },
  {
   "cell_type": "code",
   "execution_count": 5,
   "metadata": {},
   "outputs": [
    {
     "name": "stdout",
     "output_type": "stream",
     "text": [
      "Matrix A:\n",
      "     1     2     3\n",
      "     4     5     6\n",
      "     7     8     9\n",
      "\n",
      "Matrix B:\n",
      "     9     8     7\n",
      "     6     5     4\n",
      "     3     2     1\n",
      "\n"
     ]
    }
   ],
   "source": [
    "% Must be run with Jupyter Notebook to see the output in Matlab\n",
    "A = [1, 2, 3; 4, 5, 6; 7, 8, 9];\n",
    "B = [9, 8, 7; 6, 5, 4; 3, 2, 1];\n",
    "\n",
    "disp('Matrix A:');\n",
    "disp(A);\n",
    "\n",
    "disp('Matrix B:');\n",
    "disp(B);"
   ]
  },
  {
   "cell_type": "code",
   "execution_count": null,
   "metadata": {},
   "outputs": [],
   "source": []
  }
 ],
 "metadata": {
  "kernelspec": {
   "display_name": "MATLAB Kernel",
   "language": "matlab",
   "name": "jupyter_matlab_kernel"
  },
  "language_info": {
   "file_extension": ".m",
   "mimetype": "text/x-matlab",
   "name": "matlab"
  }
 },
 "nbformat": 4,
 "nbformat_minor": 4
}
