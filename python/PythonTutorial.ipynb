{
 "cells": [
  {
   "cell_type": "markdown",
   "metadata": {},
   "source": [
    "\n",
    "# Introduction to Matrices in Python\n",
    "\n",
    "In this tutorial, we will cover the basics of creating, loading, and manipulating matrices using Python's `numpy` library.\n",
    "\n",
    "## Importing necessary libraries\n",
    "\n",
    "First, we need to import the `numpy` library, which provides support for large, multi-dimensional arrays and matrices, along with a collection of mathematical functions to operate on these arrays. We will also import the `matplotlib` library to visualize the matrices.\n"
   ]
  },
  {
   "cell_type": "code",
   "execution_count": 1,
   "metadata": {},
   "outputs": [],
   "source": [
    "import numpy as np\n",
    "import matplotlib.pyplot as plt"
   ]
  },
  {
   "cell_type": "markdown",
   "metadata": {},
   "source": [
    "## Generating Matrices\n",
    "\n",
    "You can create matrices using numpy arrays. Here are some examples:\n",
    "- We can create a matrix by passing a list of lists to the `np.array` function.\n",
    "- We can create a matrix of zeros using the `np.zeros` function.\n",
    "- We can create a matrix of ones using the `np.ones` function.\n",
    "- We can create an identity matrix using the `np.eye` function.\n",
    "- We can create a matrix of random numbers using the `np.random.rand` function."
   ]
  },
  {
   "cell_type": "code",
   "execution_count": 4,
   "metadata": {},
   "outputs": [
    {
     "name": "stdout",
     "output_type": "stream",
     "text": [
      "\n",
      "Matrix of Zeros:\n",
      "[[0. 0. 0.]\n",
      " [0. 0. 0.]\n",
      " [0. 0. 0.]]\n",
      "\n",
      "Matrix of Ones:\n",
      "[[1. 1. 1.]\n",
      " [1. 1. 1.]\n",
      " [1. 1. 1.]]\n",
      "\n",
      "Identity Matrix:\n",
      "[[1. 0. 0.]\n",
      " [0. 1. 0.]\n",
      " [0. 0. 1.]]\n"
     ]
    }
   ],
   "source": [
    "# Creating a matrix of zeros\n",
    "matrix_zeros = np.zeros((3, 3))\n",
    "print(\"\\nMatrix of Zeros:\")\n",
    "print(matrix_zeros)\n",
    "\n",
    "# Creating a matrix of ones\n",
    "matrix_ones = np.ones((3, 3))\n",
    "print(\"\\nMatrix of Ones:\")\n",
    "print(matrix_ones)\n",
    "\n",
    "# Creating an identity matrix\n",
    "identity_matrix = np.eye(3)\n",
    "print(\"\\nIdentity Matrix:\")\n",
    "print(identity_matrix)\n",
    "\n",
    "# Creating a matrix of random values\n",
    "matrix_random = np.random.random((3, 3))\n",
    "print(\"\\nMatrix of Random Values:\")\n",
    "print(matrix_random)"
   ]
  },
  {
   "cell_type": "markdown",
   "metadata": {},
   "source": [
    "## Loading Matrices from Files\n",
    "\n",
    "There are multiple ways to load matrices from files:\n",
    "- We can load a matrix from a CSV file using the `np.genfromtxt` function.\n",
    "- We can load a matrix from a text file using the `np.loadtxt` function.\n",
    "- We can load a matrix from a NumPy binary file using the `np.load` function."
   ]
  },
  {
   "cell_type": "markdown",
   "metadata": {},
   "source": [
    "## Manipulating Matrices\n",
    "\n",
    "We can perform various operations on matrices, such as addition, subtraction, element-wise multiplication, dot product, transposition, and inversion.\n",
    "\n",
    "- We can add two matrices using the `+` operator.\n",
    "- We can subtract one matrix from another using the `-` operator.\n",
    "- We can multiply two matrices element-wise using the `*` operator.\n",
    "- We can compute the dot product of two matrices using the `np.dot` function.\n",
    "- We can transpose a matrix using the `.T` attribute.\n",
    "- We can invert a square matrix using the `np.linalg.inv` function."
   ]
  },
  {
   "cell_type": "code",
   "execution_count": 10,
   "metadata": {
    "vscode": {
     "languageId": "markdown"
    }
   },
   "outputs": [
    {
     "name": "stdout",
     "output_type": "stream",
     "text": [
      "\n",
      "Matrix A + Matrix B:\n",
      "[[10 10 10]\n",
      " [10 10 10]\n",
      " [10 10 10]]\n",
      "\n",
      "Matrix A - Matrix B:\n",
      "[[-8 -6 -4]\n",
      " [-2  0  2]\n",
      " [ 4  6  8]]\n",
      "\n",
      "Element-wise Multiplication of Matrix A and Matrix B:\n",
      "[[ 9 16 21]\n",
      " [24 25 24]\n",
      " [21 16  9]]\n",
      "\n",
      "Dot Product of Matrix A and Matrix B:\n",
      "[[ 30  24  18]\n",
      " [ 84  69  54]\n",
      " [138 114  90]]\n",
      "\n",
      "Transpose of Matrix A:\n",
      "[[1 4 7]\n",
      " [2 5 8]\n",
      " [3 6 9]]\n"
     ]
    }
   ],
   "source": [
    "# Matrix addition\n",
    "matrix_a = np.array([[1, 2, 3], [4, 5, 6], [7, 8, 9]])\n",
    "matrix_b = np.array([[9, 8, 7], [6, 5, 4], [3, 2, 1]])\n",
    "matrix_sum = matrix_a + matrix_b\n",
    "print(\"\\nMatrix A + Matrix B:\")\n",
    "print(matrix_sum)\n",
    "\n",
    "# Matrix subtraction\n",
    "matrix_diff = matrix_a - matrix_b\n",
    "print(\"\\nMatrix A - Matrix B:\")\n",
    "print(matrix_diff)\n",
    "\n",
    "# Matrix multiplication (element-wise)\n",
    "matrix_mult = matrix_a * matrix_b\n",
    "print(\"\\nElement-wise Multiplication of Matrix A and Matrix B:\")\n",
    "print(matrix_mult)\n",
    "\n",
    "# Matrix multiplication (dot product)\n",
    "matrix_dot = np.dot(matrix_a, matrix_b)\n",
    "print(\"\\nDot Product of Matrix A and Matrix B:\")\n",
    "print(matrix_dot)\n",
    "\n",
    "# Transposing a matrix\n",
    "matrix_transpose = matrix_a.T\n",
    "print(\"\\nTranspose of Matrix A:\")\n",
    "print(matrix_transpose)"
   ]
  }
 ],
 "metadata": {
  "kernelspec": {
   "display_name": "bioe245",
   "language": "python",
   "name": "python3"
  },
  "language_info": {
   "codemirror_mode": {
    "name": "ipython",
    "version": 3
   },
   "file_extension": ".py",
   "mimetype": "text/x-python",
   "name": "python",
   "nbconvert_exporter": "python",
   "pygments_lexer": "ipython3",
   "version": "3.10.16"
  }
 },
 "nbformat": 4,
 "nbformat_minor": 2
}
